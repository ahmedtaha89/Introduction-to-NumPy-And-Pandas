{
 "cells": [
  {
   "cell_type": "markdown",
   "id": "bd20ef88",
   "metadata": {},
   "source": [
    "# Introduction to Pandas"
   ]
  },
  {
   "cell_type": "markdown",
   "id": "d72847ba",
   "metadata": {},
   "source": [
    "Pandas is an open-source Python library that provides high-performance, easy-to-use data structures and data analysis tools. It is a popular choice for data manipulation, analysis, and cleaning in the field of data science and data analysis. Some key features of Pandas include:\n",
    "\n",
    "1. **Data Structures**: Pandas provides two main data structures: Series and DataFrame.\n",
    "\n",
    "   - **Series**: A one-dimensional array-like object that can hold data of any type. It is similar to a column in a spreadsheet or a single variable in statistics.\n",
    "\n",
    "   - **DataFrame**: A two-dimensional, tabular data structure with rows and columns. It is similar to a spreadsheet or a SQL table and is used for data manipulation and analysis."
   ]
  },
  {
   "cell_type": "markdown",
   "id": "3f6459d6",
   "metadata": {},
   "source": [
    "# Why We Use NumPy Array\n",
    "\n",
    "1. **Data Manipulation**\n",
    "\n",
    "2. **Data Import and Export**\n",
    "3. **Missing Data Handling**\n",
    "4. **Time Series Data**\n",
    "5. **Merging and Joining Data**\n",
    "\n",
    "6. **Data Visualization**"
   ]
  },
  {
   "cell_type": "markdown",
   "id": "76ff6f36",
   "metadata": {},
   "source": [
    "# Install Python"
   ]
  },
  {
   "cell_type": "markdown",
   "id": "e660f09f",
   "metadata": {},
   "source": [
    "If you don't have Python installed, you can download and install it from the official Python website.\n",
    "- https://www.python.org/downloads/"
   ]
  },
  {
   "cell_type": "markdown",
   "id": "eb9deed1",
   "metadata": {},
   "source": [
    "# Install Pandas with pip"
   ]
  },
  {
   "cell_type": "markdown",
   "id": "0eb5d0c2",
   "metadata": {},
   "source": [
    "Open a Terminal or Command Prompt:"
   ]
  },
  {
   "cell_type": "code",
   "execution_count": null,
   "id": "93771fa0",
   "metadata": {},
   "outputs": [],
   "source": [
    "pip install pandas"
   ]
  },
  {
   "cell_type": "markdown",
   "id": "1dfec9c5",
   "metadata": {},
   "source": [
    "# Pandas Documentation"
   ]
  },
  {
   "cell_type": "markdown",
   "id": "82185ca1",
   "metadata": {},
   "source": [
    "https://pandas.pydata.org/docs/<- <i> A link to the Pandas documentation"
   ]
  },
  {
   "cell_type": "markdown",
   "id": "284b218f",
   "metadata": {},
   "source": [
    "this line, you make the entire Pandas library available in your script, and you can access its functionality using the alias \"pd.\""
   ]
  },
  {
   "cell_type": "code",
   "execution_count": null,
   "id": "e09fd9ec",
   "metadata": {},
   "outputs": [],
   "source": [
    "import pandas as pd"
   ]
  },
  {
   "cell_type": "markdown",
   "id": "184990bd",
   "metadata": {},
   "source": [
    "These three fundamental Pandas data structures: the ``Series``,  ``Index``, and ``DataFrame``."
   ]
  },
  {
   "cell_type": "markdown",
   "id": "7d65ea8c",
   "metadata": {},
   "source": [
    "We will start our code sessions with the standard NumPy and Pandas imports:"
   ]
  },
  {
   "cell_type": "code",
   "execution_count": null,
   "id": "7999f460",
   "metadata": {},
   "outputs": [],
   "source": [
    "import numpy as np\n",
    "import pandas as pd"
   ]
  },
  {
   "cell_type": "markdown",
   "id": "acfc427c",
   "metadata": {},
   "source": [
    "# The Pandas Series Object\n",
    "\n",
    "A Pandas ``Series`` is a one-dimensional array of indexed data.\n",
    "It can be created from a list or array as follows:"
   ]
  },
  {
   "cell_type": "code",
   "execution_count": null,
   "id": "c34d2877",
   "metadata": {},
   "outputs": [],
   "source": [
    "data = pd.Series([0.25, 0.5, 0.75, 1.0])\n",
    "data"
   ]
  },
  {
   "cell_type": "markdown",
   "id": "b68f1327",
   "metadata": {},
   "source": [
    "- values\n",
    "- index\n",
    "- dtype"
   ]
  },
  {
   "cell_type": "code",
   "execution_count": null,
   "id": "64e9af97",
   "metadata": {},
   "outputs": [],
   "source": [
    "import pandas as pd\n",
    "\n",
    "data = pd.Series([0.25, 0.5, 0.75, 1.0])\n",
    "\n",
    "# To display the values of the Series, you can simply use the Series name:\n",
    "print(f\"Values : {data.values}\")\n",
    "\n",
    "# To display the indices of the Series, you can use the .index attribute:\n",
    "print(f\"index of the Series : {data.index}\")\n",
    "\n",
    "# This will output the indices, which may include information about the index type and range\n",
    "print(f\"Data Type : {data.dtype}\")"
   ]
  },
  {
   "cell_type": "markdown",
   "id": "bf132a04",
   "metadata": {},
   "source": [
    "## Creating a series from a numpy ndarray"
   ]
  },
  {
   "cell_type": "code",
   "execution_count": null,
   "id": "866322c0",
   "metadata": {},
   "outputs": [],
   "source": [
    "import pandas as pd\n",
    "import numpy as np\n",
    "\n",
    "# Create a NumPy ndarray with random numbers\n",
    "numpy_array = np.random.randn(6)\n",
    "\n",
    "# Create a Pandas Series from the NumPy ndarray\n",
    "Series2 = pd.Series(numpy_array)\n",
    "\n",
    "# Display the Pandas Series\n",
    "print(Series2)\n",
    "print(\"-\"*80)\n",
    "print(Series2.values)\n",
    "print(\"-\"*80)\n",
    "print(Series2.index)\n",
    "print(\"-\"*80)\n",
    "print(Series2.dtype)"
   ]
  },
  {
   "cell_type": "markdown",
   "id": "94164454",
   "metadata": {},
   "source": [
    "# Creating a series from dictionary object"
   ]
  },
  {
   "cell_type": "code",
   "execution_count": null,
   "id": "3e841f58",
   "metadata": {},
   "outputs": [],
   "source": [
    "import pandas as pd\n",
    "\n",
    "# Create a dictionary\n",
    "data_dict = {'A': 10, 'B': 20, 'C': 30, 'D': 40, 'E': 50}\n",
    "\n",
    "# Create a Pandas Series from the dictionary\n",
    "series_from_dict = pd.Series(data_dict)\n",
    "\n",
    "# Display the Pandas Series\n",
    "print(series_from_dict)"
   ]
  },
  {
   "cell_type": "markdown",
   "id": "8858eb87",
   "metadata": {},
   "source": [
    "# Index in Series:\n",
    "- In a Pandas Series, the index is a label associated with each element of the Series.\n",
    "- The index can be automatically generated or specified explicitly.\n",
    "- You can access elements by their index labels.\n",
    "- The index can be of various types, including integers, strings, or even datetime objects."
   ]
  },
  {
   "cell_type": "markdown",
   "id": "8c6338ee",
   "metadata": {},
   "source": [
    "## Accessing elements of a Series"
   ]
  },
  {
   "cell_type": "markdown",
   "id": "727e7027",
   "metadata": {},
   "source": [
    "- Slicing a Series by Index:"
   ]
  },
  {
   "cell_type": "code",
   "execution_count": null,
   "id": "f1d926bf",
   "metadata": {},
   "outputs": [],
   "source": [
    "import pandas as pd\n",
    "\n",
    "data = pd.Series([0.25, 0.5, 0.75, 1.0])\n",
    "\n",
    "# Slice the Series from index 1 to index 2 (inclusive)\n",
    "subset = data[1:3]\n",
    "print(subset)"
   ]
  },
  {
   "cell_type": "markdown",
   "id": "84981921",
   "metadata": {},
   "source": [
    "- Access by Index Label:"
   ]
  },
  {
   "cell_type": "code",
   "execution_count": null,
   "id": "f3341bb9",
   "metadata": {},
   "outputs": [],
   "source": [
    "import pandas as pd\n",
    "\n",
    "series = pd.Series([10, 20, 30, 40, 50], index=['A', 'B', 'C', 'D', 'E'])\n",
    "element = series['B']  \n",
    "print(element)\n"
   ]
  },
  {
   "cell_type": "markdown",
   "id": "1d503dbe",
   "metadata": {},
   "source": [
    "- Access Multiple Elements by Slicing "
   ]
  },
  {
   "cell_type": "code",
   "execution_count": null,
   "id": "0f65f3d8",
   "metadata": {},
   "outputs": [],
   "source": [
    "series = pd.Series([10, 20, 30, 40, 50], index=['A', 'B', 'C', 'D', 'E'])\n",
    "element2 = series['B':'D']\n",
    "print(element2)"
   ]
  },
  {
   "cell_type": "markdown",
   "id": "8bc09266",
   "metadata": {},
   "source": [
    "- Access by Integer Position:"
   ]
  },
  {
   "cell_type": "markdown",
   "id": "203f0704",
   "metadata": {},
   "source": [
    "When you use iloc, the selection is exclusive on the right side, meaning that the end index is not included in the selection."
   ]
  },
  {
   "cell_type": "code",
   "execution_count": null,
   "id": "23885b3e",
   "metadata": {},
   "outputs": [],
   "source": [
    "import pandas as pd\n",
    "\n",
    "data = pd.Series([10, 20, 30, 40, 50], index=['A', 'B', 'C', 'D', 'E'])\n",
    "element3 = data.iloc[1]\n",
    "print(element3)\n",
    "\n",
    "element4 = data.iloc[1:3]\n",
    "print(element4)"
   ]
  },
  {
   "cell_type": "markdown",
   "id": "44e1e077",
   "metadata": {},
   "source": [
    "In Pandas, you can find the number of elements in a Series using various `function` , and the result can depend on whether null (NaN) elements are included or not. Here are some commonly used functions to find the number of elements in a Series and how they handle null elements:"
   ]
  },
  {
   "cell_type": "code",
   "execution_count": null,
   "id": "6311fe38",
   "metadata": {},
   "outputs": [],
   "source": [
    "# len(series): The len function returns the total number of elements in the Series, including both non-null and null elements.\n",
    "import pandas as pd\n",
    "import numpy as np\n",
    "\n",
    "s = pd.Series([1, 2, np.nan, 4, 5])\n",
    "total_elements = len(s)\n",
    "print(\"Total number of elements in the Series (including null):\", total_elements)"
   ]
  },
  {
   "cell_type": "code",
   "execution_count": null,
   "id": "50e008f0",
   "metadata": {},
   "outputs": [],
   "source": [
    "# series.size: The size attribute of a Series returns the total number of elements, including null elements.\n",
    "size = s.size\n",
    "print(\"Total number of elements in the Series (including null):\", size)"
   ]
  },
  {
   "cell_type": "code",
   "execution_count": null,
   "id": "7ea53876",
   "metadata": {},
   "outputs": [],
   "source": [
    "# series.count(): The count() method returns the number of non-null (non-NaN) elements in the Series.\n",
    "count = s.count()\n",
    "print(\"Number of non-null elements in the Series:\", count)"
   ]
  },
  {
   "cell_type": "code",
   "execution_count": null,
   "id": "4c103b93",
   "metadata": {},
   "outputs": [],
   "source": [
    "# series.dropna().size: You can use the dropna() method to remove null elements and then use size to get the number of remaining elements\n",
    "non_null_size = s.dropna().size\n",
    "print(\"Number of non-null elements in the Series (after dropping NaNs):\", non_null_size)"
   ]
  },
  {
   "cell_type": "code",
   "execution_count": null,
   "id": "2f06f6c5",
   "metadata": {},
   "outputs": [],
   "source": [
    "import pandas as pd\n",
    "\n",
    "# Create a sample Series\n",
    "data = pd.Series(['A', 'B', 'A', 'C', 'B', 'A', 'A', 'C', 'D', 'E'])\n",
    "\n",
    "# Use value_counts() to count unique values\n",
    "value_counts = data.value_counts()\n",
    "print(f\"Value Counts: {value_counts}\")"
   ]
  },
  {
   "cell_type": "markdown",
   "id": "52226ff6",
   "metadata": {},
   "source": [
    "# Sort the DataFrame by the 'Age' column in ascending order"
   ]
  },
  {
   "cell_type": "code",
   "execution_count": null,
   "id": "984f34f4",
   "metadata": {},
   "outputs": [],
   "source": [
    "import pandas as pd\n",
    "\n",
    "# Create a sample DataFrame\n",
    "data = {'Name': ['Alice', 'Bob', 'Charlie', 'David'],\n",
    "        'Age': [25, 30, 22, 28]}\n",
    "\n",
    "df = pd.DataFrame(data)\n",
    "\n",
    "# Sort the DataFrame by the 'Age' column in ascending order\n",
    "sorted_df = df.sort_values(by='Age')\n",
    "\n",
    "print(sorted_df)"
   ]
  },
  {
   "cell_type": "markdown",
   "id": "e3136551",
   "metadata": {},
   "source": [
    "# DataFrame\n",
    "A DataFrame is a fundamental data structure in the Pandas library, which is a popular Python library for data manipulation and analysis. It can be thought of as a two-dimensional, labeled data structure, similar to a spreadsheet or a SQL table. A DataFrame consists of rows and columns, where each column can have a different data type."
   ]
  },
  {
   "cell_type": "markdown",
   "id": "a1b04a69",
   "metadata": {},
   "source": [
    " # Creating DataFrame from numpy ndarray"
   ]
  },
  {
   "cell_type": "code",
   "execution_count": null,
   "id": "505d01ba",
   "metadata": {},
   "outputs": [],
   "source": [
    "import pandas as pd\n",
    "import numpy as np\n",
    "\n",
    "# Create a NumPy ndarray\n",
    "data_array = np.array([\n",
    "    [1, 2, 3],\n",
    "    [4, 5, 6],\n",
    "    [7, 8, 9]\n",
    "])\n",
    "columnNames = ['col_1','col_2','col_3']\n",
    "# Create a DataFrame from the NumPy ndarray\n",
    "df = pd.DataFrame(data_array , columns=columnNames)\n",
    "\n",
    "# Display the DataFrame\n",
    "df"
   ]
  },
  {
   "cell_type": "markdown",
   "id": "edf84808",
   "metadata": {},
   "source": [
    "Shape And Size"
   ]
  },
  {
   "cell_type": "code",
   "execution_count": null,
   "id": "70505d9c",
   "metadata": {},
   "outputs": [],
   "source": [
    "sh = df.shape\n",
    "print(f\"shape = {sh}\")\n",
    "\n",
    "s = df.size\n",
    "print(f\"size = {s}\")"
   ]
  },
  {
   "cell_type": "markdown",
   "id": "27557112",
   "metadata": {},
   "source": [
    "### DataFrame as a dictionary\n",
    "\n",
    "The first analogy we will consider is the ``DataFrame`` as a dictionary of related ``Series`` objects.\n",
    "Let's return to our example of areas and populations of states:"
   ]
  },
  {
   "cell_type": "code",
   "execution_count": null,
   "id": "4196acee",
   "metadata": {},
   "outputs": [],
   "source": [
    "area = pd.Series({'California': 423967, 'Texas': 695662,\n",
    "                  'New York': 141297, 'Florida': 170312,\n",
    "                  'Illinois': 149995})\n",
    "\n",
    "pop = pd.Series({'California': 38332521, 'Texas': 26448193,\n",
    "                 'New York': 19651127, 'Florida': 19552860,\n",
    "                 'Illinois': 12882135})\n",
    "\n",
    "data = pd.DataFrame({'area':area, 'pop':pop})\n",
    "data"
   ]
  },
  {
   "cell_type": "markdown",
   "id": "206e8f78",
   "metadata": {},
   "source": [
    "The individual ``Series`` that make up the columns of the ``DataFrame`` can be accessed via dictionary-style indexing of the column name:"
   ]
  },
  {
   "cell_type": "code",
   "execution_count": null,
   "id": "5b4d2388",
   "metadata": {},
   "outputs": [],
   "source": [
    "data['area']"
   ]
  },
  {
   "cell_type": "code",
   "execution_count": null,
   "id": "8e349fd1",
   "metadata": {},
   "outputs": [],
   "source": [
    "data['pop']"
   ]
  },
  {
   "cell_type": "markdown",
   "id": "192c21f1",
   "metadata": {},
   "source": [
    "## Calculate density and add it as a new column"
   ]
  },
  {
   "cell_type": "code",
   "execution_count": null,
   "id": "d1d77d40",
   "metadata": {},
   "outputs": [],
   "source": [
    "data['density'] = data['pop'] / data['area']\n",
    "\n",
    "# Display the updated DataFrame\n",
    "data"
   ]
  },
  {
   "cell_type": "markdown",
   "id": "4eb74759",
   "metadata": {},
   "source": [
    "we can transpose the full ``DataFrame`` to swap rows and columns:"
   ]
  },
  {
   "cell_type": "code",
   "execution_count": null,
   "id": "96483117",
   "metadata": {},
   "outputs": [],
   "source": [
    "data.T"
   ]
  },
  {
   "cell_type": "markdown",
   "id": "c655ee09",
   "metadata": {},
   "source": [
    "# Importing Data from a CSV And Excel File:"
   ]
  },
  {
   "cell_type": "markdown",
   "id": "94e327a1",
   "metadata": {},
   "source": [
    "To read data from a CSV file, you can use the read_csv() function. Here's an example:"
   ]
  },
  {
   "cell_type": "code",
   "execution_count": null,
   "id": "6e730372",
   "metadata": {
    "collapsed": true
   },
   "outputs": [],
   "source": [
    "import pandas as pd\n",
    "\n",
    "# Reading data from a CSV file\n",
    "# csv_file = \"your_data.csv\"\n",
    "\n",
    "csv_file = 'D:\\Projects\\DataSet\\Premier-League\\Player_Info.csv'\n",
    "df = pd.read_csv(csv_file)\n",
    "\n",
    "# Display the DataFrame\n",
    "print(df)"
   ]
  },
  {
   "cell_type": "markdown",
   "id": "cc898feb",
   "metadata": {},
   "source": [
    "Here's an example of reading data from an Excel file:"
   ]
  },
  {
   "cell_type": "code",
   "execution_count": null,
   "id": "e311b291",
   "metadata": {
    "scrolled": true
   },
   "outputs": [],
   "source": [
    "import pandas as pd\n",
    "\n",
    "# Reading data from an Excel file\n",
    "# excel_file = \"your_data.xlsx\"\n",
    "\n",
    "excel_file = 'D:\\Projects\\DataSet\\Premier-League\\Premier_League.XLSX'\n",
    "df = pd.read_excel(excel_file)\n",
    "\n",
    "# Display the DataFrame\n",
    "print(df)"
   ]
  },
  {
   "cell_type": "markdown",
   "id": "11916a4d",
   "metadata": {},
   "source": [
    "# Reading a CSV file and displaying data:"
   ]
  },
  {
   "cell_type": "code",
   "execution_count": null,
   "id": "923ac078",
   "metadata": {},
   "outputs": [],
   "source": [
    "import pandas as pd\n",
    "\n",
    "# Reading a CSV file\n",
    "csv_file = 'D:\\Projects\\DataSet\\Premier-League\\Player_Info.csv'  # Replace with your CSV file path\n",
    "\n",
    "# Display the first few rows (head) of the DataFrame\n",
    "print(\"First 3 rows:\")\n",
    "print(df.head(3))\n",
    "\n",
    "# Display the last few rows (tail) of the DataFrame\n",
    "print(\"\\nLast 2 rows:\")\n",
    "print(df.tail(2))\n",
    "\n",
    "# Get basic statistics for numerical columns\n",
    "print(\"\\nSummary Statistics:\")\n",
    "print(df.describe())\n",
    "\n",
    "# Filter the DataFrame based on a condition\n",
    "young_people = df[df['Age'] < 30]\n",
    "print(\"\\nYoung People:\")\n",
    "print(young_people)\n",
    "\n",
    "# Group and aggregate data\n",
    "age_group = df.groupby('Age').count()\n",
    "print(\"\\nAge Group:\")\n",
    "print(age_group)\n",
    "\n",
    "# Save the DataFrame to a new CSV file\n",
    "df.to_csv('new_data.csv', index=False)"
   ]
  },
  {
   "cell_type": "markdown",
   "id": "9bd89213",
   "metadata": {},
   "source": [
    "\n",
    "# indexing of ``DataFrame`` "
   ]
  },
  {
   "cell_type": "code",
   "execution_count": null,
   "id": "639545f7",
   "metadata": {},
   "outputs": [],
   "source": [
    "data.values[2]"
   ]
  },
  {
   "cell_type": "markdown",
   "id": "275e222f",
   "metadata": {},
   "source": [
    "iloc is used to select a specific subset of rows and columns from the DataFrame data using integer-based indexing. "
   ]
  },
  {
   "cell_type": "code",
   "execution_count": null,
   "id": "94f13fc9",
   "metadata": {},
   "outputs": [],
   "source": [
    "# :3 => Num Of  Rows\n",
    "# :2 => Num Of Columns\n",
    "\n",
    "data.iloc[:3, :2]"
   ]
  },
  {
   "cell_type": "markdown",
   "id": "8ab69024",
   "metadata": {},
   "source": [
    "Similarly, using the ``loc`` indexer we can index the underlying data in an array-like style but using the explicit index and column names:"
   ]
  },
  {
   "cell_type": "code",
   "execution_count": null,
   "id": "ea304770",
   "metadata": {},
   "outputs": [],
   "source": [
    "data.loc[:'Illinois', :'pop']"
   ]
  },
  {
   "cell_type": "markdown",
   "id": "163590a2",
   "metadata": {},
   "source": [
    "## selection and filtering"
   ]
  },
  {
   "cell_type": "code",
   "execution_count": null,
   "id": "aae397b2",
   "metadata": {},
   "outputs": [],
   "source": [
    "filtered_data = data[data['pop'] > 19552860]\n",
    "filtered_data"
   ]
  },
  {
   "cell_type": "markdown",
   "id": "17cc826f",
   "metadata": {},
   "source": [
    "# Arithmetic Operations"
   ]
  },
  {
   "cell_type": "markdown",
   "id": "0f3d6a35",
   "metadata": {},
   "source": [
    "The following table lists Python operators and their equivalent Pandas object methods:\n",
    "\n",
    "| Python Operator | Pandas Method(s)                      |\n",
    "|-----------------|---------------------------------------|\n",
    "| ``+``           | ``add()``                             |\n",
    "| ``-``           | ``sub()``, ``subtract()``             |\n",
    "| ``*``           | ``mul()``, ``multiply()``             |\n",
    "| ``/``           | ``truediv()``, ``div()``, ``divide()``|\n",
    "| ``//``          | ``floordiv()``                        |\n",
    "| ``%``           | ``mod()``                             |\n",
    "| ``**``          | ``pow()``                             |\n"
   ]
  },
  {
   "cell_type": "code",
   "execution_count": null,
   "id": "1642f5a9",
   "metadata": {},
   "outputs": [],
   "source": [
    "import pandas as pd\n",
    "\n",
    "# Creating two Pandas Series for demonstration\n",
    "s1 = pd.Series([1, 2, 3, 4])\n",
    "s2 = pd.Series([5, 6, 7, 8])\n",
    "\n",
    "# Python Operator: '+'\n",
    "# Pandas Method: 'add()'\n",
    "result_add = s1.add(s2)\n",
    "print(\"Addition (+) Example:\")\n",
    "print(result_add)\n",
    "\n",
    "# Python Operator: '-'\n",
    "# Pandas Methods: 'sub()', 'subtract()'\n",
    "result_sub = s1.sub(s2)\n",
    "result_sub_alt = s1.subtract(s2)\n",
    "print(\"\\nSubtraction (-) Examples:\")\n",
    "print(result_sub)\n",
    "print(result_sub_alt)\n",
    "\n",
    "# Python Operator: '*'\n",
    "# Pandas Methods: 'mul()', 'multiply()'\n",
    "result_mul = s1.mul(s2)\n",
    "result_mul_alt = s1.multiply(s2)\n",
    "print(\"\\nMultiplication (*) Examples:\")\n",
    "print(result_mul)\n",
    "print(result_mul_alt)\n",
    "\n",
    "# Python Operator: '/'\n",
    "# Pandas Methods: 'truediv()', 'div()', 'divide()'\n",
    "result_div = s1.truediv(s2)\n",
    "result_div_alt = s1.div(s2)\n",
    "result_div_alt2 = s1.divide(s2)\n",
    "print(\"\\nDivision (/) Examples:\")\n",
    "print(result_div)\n",
    "print(result_div_alt)\n",
    "print(result_div_alt2)\n",
    "\n",
    "# Python Operator: '//'\n",
    "# Pandas Method: 'floordiv()'\n",
    "result_floordiv = s1.floordiv(s2)\n",
    "print(\"\\nFloor Division (//) Example:\")\n",
    "print(result_floordiv)\n",
    "\n",
    "# Python Operator: '%'\n",
    "# Pandas Method: 'mod()'\n",
    "result_mod = s1.mod(s2)\n",
    "print(\"\\nModulus (%) Example:\")\n",
    "print(result_mod)\n",
    "\n",
    "# Python Operator: '**'\n",
    "# Pandas Method: 'pow()'\n",
    "result_pow = s1.pow(s2)\n",
    "print(\"\\nExponentiation (**) Example:\")\n",
    "print(result_pow)\n"
   ]
  },
  {
   "cell_type": "markdown",
   "id": "90711dac",
   "metadata": {},
   "source": [
    "# Matplotlib\n",
    "matplotlib is a popular Python library for creating static, animated, or interactive visualizations in Python. It provides a wide range of tools for creating various types of plots, charts, and graphs to help you visualize and present your data. Here's a basic introduction to using matplotlib:"
   ]
  },
  {
   "cell_type": "markdown",
   "id": "06b07dab",
   "metadata": {},
   "source": [
    "## Install Pandas with pip\n",
    "Open a Terminal or Command Prompt:"
   ]
  },
  {
   "cell_type": "code",
   "execution_count": null,
   "id": "c05eada3",
   "metadata": {},
   "outputs": [],
   "source": [
    "pip install matplotlib"
   ]
  },
  {
   "cell_type": "markdown",
   "id": "f04c974f",
   "metadata": {},
   "source": [
    "this line, you make the entire matplotlib library available in your script, and you can access its functionality using the alias \"plt.\""
   ]
  },
  {
   "cell_type": "code",
   "execution_count": null,
   "id": "75650bf7",
   "metadata": {},
   "outputs": [],
   "source": [
    "import matplotlib.pyplot as plt"
   ]
  },
  {
   "cell_type": "markdown",
   "id": "a48e3078",
   "metadata": {},
   "source": [
    "## Plotting Series and DataFrame"
   ]
  },
  {
   "cell_type": "markdown",
   "id": "73f07f55",
   "metadata": {},
   "source": [
    "# (a) Line plot "
   ]
  },
  {
   "cell_type": "code",
   "execution_count": 48,
   "id": "954326b8",
   "metadata": {},
   "outputs": [
    {
     "data": {
      "image/png": "[encoded data removed]",
      "text/plain": [
       "<Figure size 640x480 with 1 Axes>"
      ]
     },
     "metadata": {},
     "output_type": "display_data"
    }
   ],
   "source": [
    "import pandas as pd\n",
    "import matplotlib.pyplot as plt\n",
    "\n",
    "# Create a sample Series\n",
    "s = pd.Series([1, 2, 3, 4, 5])\n",
    "\n",
    "# Plot the Series\n",
    "plt.plot(s.index, s.values)\n",
    "plt.xlabel('X-Axis Label')\n",
    "plt.ylabel('Y-Axis Label')\n",
    "plt.title('Series Plot')\n",
    "plt.show()"
   ]
  },
  {
   "cell_type": "markdown",
   "id": "9396cfff",
   "metadata": {},
   "source": [
    "# (b) Bar plot"
   ]
  },
  {
   "cell_type": "code",
   "execution_count": 49,
   "id": "ca11b97e",
   "metadata": {},
   "outputs": [
    {
     "data": {
      "image/png": "[encoded data removed]",
      "text/plain": [
       "<Figure size 640x480 with 1 Axes>"
      ]
     },
     "metadata": {},
     "output_type": "display_data"
    }
   ],
   "source": [
    "import matplotlib.pyplot as plt\n",
    "\n",
    "# Sample data\n",
    "categories = ['Category A', 'Category B', 'Category C', 'Category D']\n",
    "values = [10, 15, 8, 12]\n",
    "\n",
    "# Create a bar plot\n",
    "plt.bar(categories, values)\n",
    "\n",
    "# Add labels and a title\n",
    "plt.xlabel('Categories')\n",
    "plt.ylabel('Values')\n",
    "plt.title('Bar Plot Example')\n",
    "\n",
    "# Display the plot\n",
    "plt.show()\n"
   ]
  },
  {
   "cell_type": "markdown",
   "id": "f1c5d5ff",
   "metadata": {},
   "source": [
    "# (c) Histogram"
   ]
  },
  {
   "cell_type": "code",
   "execution_count": 50,
   "id": "b58a921b",
   "metadata": {},
   "outputs": [
    {
     "data": {
      "image/png": "[encoded data removed]",
      "text/plain": [
       "<Figure size 640x480 with 1 Axes>"
      ]
     },
     "metadata": {},
     "output_type": "display_data"
    }
   ],
   "source": [
    "import matplotlib.pyplot as plt\n",
    "import numpy as np\n",
    "\n",
    "# Generate random data (in this case, 1000 random numbers)\n",
    "data = np.random.randn(1000)\n",
    "\n",
    "# Create a histogram\n",
    "plt.hist(data, bins=20, edgecolor='k', alpha=0.7)\n",
    "\n",
    "# Add labels and a title\n",
    "plt.xlabel('Value')\n",
    "plt.ylabel('Frequency')\n",
    "plt.title('Histogram Example')\n",
    "\n",
    "# Display the plot\n",
    "plt.show()\n"
   ]
  },
  {
   "cell_type": "markdown",
   "id": "66ea0275",
   "metadata": {},
   "source": [
    "# (d) Box plot"
   ]
  },
  {
   "cell_type": "code",
   "execution_count": 51,
   "id": "2c2b66bb",
   "metadata": {},
   "outputs": [
    {
     "data": {
      "image/png": "[encoded data removed]",
      "text/plain": [
       "<Figure size 640x480 with 1 Axes>"
      ]
     },
     "metadata": {},
     "output_type": "display_data"
    }
   ],
   "source": [
    "import matplotlib.pyplot as plt\n",
    "import numpy as np\n",
    "\n",
    "# Generate some sample data\n",
    "data = [np.random.normal(0, 1, 100),  # Sample 1\n",
    "        np.random.normal(0, 1, 100),  # Sample 2\n",
    "        np.random.normal(0, 1, 100)]  # Sample 3\n",
    "\n",
    "# Create a box plot\n",
    "plt.boxplot(data, labels=['Sample 1', 'Sample 2', 'Sample 3'])\n",
    "\n",
    "# Add labels and a title\n",
    "plt.xlabel('Sample Groups')\n",
    "plt.ylabel('Values')\n",
    "plt.title('Box Plot Example')\n",
    "\n",
    "# Display the plot\n",
    "plt.show()\n"
   ]
  },
  {
   "cell_type": "markdown",
   "id": "d31ded28",
   "metadata": {},
   "source": [
    "# (e) Scatter plot"
   ]
  },
  {
   "cell_type": "code",
   "execution_count": 52,
   "id": "e11bead4",
   "metadata": {},
   "outputs": [
    {
     "data": {
      "image/png": "[encoded data removed]",
      "text/plain": [
       "<Figure size 640x480 with 1 Axes>"
      ]
     },
     "metadata": {},
     "output_type": "display_data"
    }
   ],
   "source": [
    "import matplotlib.pyplot as plt\n",
    "import numpy as np\n",
    "\n",
    "# Generate sample data for two variables\n",
    "x = np.random.rand(50)  # Random x-values\n",
    "y = 2 * x + 1 + 0.2 * np.random.randn(50)  # Linear relationship with some noise\n",
    "\n",
    "# Create a scatter plot\n",
    "plt.scatter(x, y, label='Data Points', color='blue', marker='o')\n",
    "\n",
    "# Add labels and a title\n",
    "plt.xlabel('X-axis')\n",
    "plt.ylabel('Y-axis')\n",
    "plt.title('Scatter Plot Example')\n",
    "\n",
    "# Display the plot\n",
    "plt.legend()\n",
    "plt.grid(True)\n",
    "plt.show()"
   ]
  },
  {
   "cell_type": "markdown",
   "id": "480b1310",
   "metadata": {},
   "source": [
    " # اللهم انصر اخوننا في فلسطين وايدهم بقوتك"
   ]
  }
 ],
 "metadata": {
  "kernelspec": {
   "display_name": "Python 3 (ipykernel)",
   "language": "python",
   "name": "python3"
  },
  "language_info": {
   "codemirror_mode": {
    "name": "ipython",
    "version": 3
   },
   "file_extension": ".py",
   "mimetype": "text/x-python",
   "name": "python",
   "nbconvert_exporter": "python",
   "pygments_lexer": "ipython3",
   "version": "3.11.5"
  }
 },
 "nbformat": 4,
 "nbformat_minor": 5
}
