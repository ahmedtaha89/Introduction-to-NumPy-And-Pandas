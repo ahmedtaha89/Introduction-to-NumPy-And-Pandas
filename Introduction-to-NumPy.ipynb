{
 "cells": [
  {
   "cell_type": "markdown",
   "metadata": {},
   "source": [
    "# Introduction to NumPy"
   ]
  },
  {
   "cell_type": "markdown",
   "metadata": {},
   "source": [
    "Numpy: short for \"Numerical Python\" is a popular open-source Python library used for working with arrays and matrices of data. It provides support for a wide range of mathematical and scientific operations and is a fundamental tool in the data science and scientific computing communities. Some of the key features of NumPy include:\n",
    "\n",
    " - NumPy Is A Python Third-Party Module To Deal With Arrays & Matrices\n",
    " - NumPy Stand For Numerical Python\n",
    " - NumPy Is Open Source\n",
    " - NumPy Support Dealing With Large Multidimensional Arrays & Matrices\n",
    " - NumPy Has Many Mathematical Functions To Deal With This Elements"
   ]
  },
  {
   "cell_type": "markdown",
   "metadata": {},
   "source": [
    "# Why We Use NumPy Array"
   ]
  },
  {
   "cell_type": "markdown",
   "metadata": {},
   "source": [
    " - Consume Less Memory\n",
    " - Very Fast Compared To Python List\n",
    " - Easy To Use\n",
    " - Support Element Wise Operation\n",
    " - Elements Are Stored Contiguous"
   ]
  },
  {
   "cell_type": "markdown",
   "metadata": {},
   "source": [
    "# Install Python"
   ]
  },
  {
   "cell_type": "markdown",
   "metadata": {},
   "source": [
    "If you don't have Python installed, you can download and install it from the official Python website.\n",
    "https://www.python.org/downloads/"
   ]
  },
  {
   "cell_type": "markdown",
   "metadata": {},
   "source": [
    "# Install NumPy with pip"
   ]
  },
  {
   "cell_type": "markdown",
   "metadata": {},
   "source": [
    "Open a Terminal or Command Prompt:"
   ]
  },
  {
   "cell_type": "code",
   "execution_count": null,
   "metadata": {
    "scrolled": true
   },
   "outputs": [],
   "source": [
    "pip install numpy"
   ]
  },
  {
   "cell_type": "markdown",
   "metadata": {},
   "source": [
    "# NumPy Documentation"
   ]
  },
  {
   "cell_type": "markdown",
   "metadata": {},
   "source": [
    "https://numpy.org/devdocs/ <- <i> A link to the NumPy documentation"
   ]
  },
  {
   "cell_type": "markdown",
   "metadata": {},
   "source": [
    "this line, you make the entire NumPy library available in your script, and you can access its functionality using the alias \"np.\""
   ]
  },
  {
   "cell_type": "code",
   "execution_count": null,
   "metadata": {},
   "outputs": [],
   "source": [
    "import numpy as np"
   ]
  },
  {
   "cell_type": "markdown",
   "metadata": {},
   "source": [
    "# Creating Arrays\n",
    "\n",
    "First, we can use ``np.array`` to create arrays from Python lists:"
   ]
  },
  {
   "cell_type": "code",
   "execution_count": null,
   "metadata": {},
   "outputs": [],
   "source": [
    "# Create a 0-dimensional NumPy array with a single element (scalar).\n",
    "a = np.array(10)\n",
    "print(f\"0-dimensional => {a}\")\n",
    "\n",
    "# Create a 1-dimensional NumPy array with two elements.\n",
    "b = np.array([10, 20])\n",
    "print(f\"1-dimensional => {b}\")\n",
    "\n",
    "# Create a 2-dimensional NumPy array (matrix) with two rows and two columns.\n",
    "c = np.array([[1, 2], [3, 4]])\n",
    "print(f\"2-dimensional => {c}\")\n",
    "\n",
    "# Create a 3-dimensional NumPy array with two \"layers,\" each containing a 2x2 matrix.\n",
    "d = np.array([[[5, 6], [7, 9]], [[1, 3], [4, 8]]])\n",
    "print(f\"3-dimensional => {d}\")"
   ]
  },
  {
   "cell_type": "markdown",
   "metadata": {},
   "source": [
    "# Data Type"
   ]
  },
  {
   "cell_type": "markdown",
   "metadata": {},
   "source": [
    "## [Numpy Data Type](https://numpy.org/devdocs/user/basics.types.html)\n",
    "- int (e.g., int16, int32, int64): Integer types with different sizes.\n",
    "- float (e.g., float32, float64): Floating-point types.\n",
    "- bool: Boolean data type.\n",
    "- str_, unicode_: String data types.\n",
    "- complex (e.g., complex64, complex128): Complex number types.\n",
    "- uint (e.g., uint8, uint16): Unsigned integer types."
   ]
  },
  {
   "cell_type": "markdown",
   "metadata": {},
   "source": [
    "Remember that unlike Python lists, NumPy is constrained to arrays that all contain the same type.\n",
    "If types do not match, NumPy will upcast if possible (here, integers are up-cast to floating point):"
   ]
  },
  {
   "cell_type": "markdown",
   "metadata": {},
   "source": [
    "# Get the data type of the NumPy array 'a' using the 'dtype' attribute."
   ]
  },
  {
   "cell_type": "code",
   "execution_count": null,
   "metadata": {},
   "outputs": [],
   "source": [
    "import numpy as np\n",
    "\n",
    "a = np.array([3.14, 4, 2, 3])\n",
    "array_dtype = a.dtype\n",
    "print(array_dtype)"
   ]
  },
  {
   "cell_type": "markdown",
   "metadata": {},
   "source": [
    "If we want to explicitly set the data type of the resulting array, we can use the ``dtype`` keyword:"
   ]
  },
  {
   "cell_type": "code",
   "execution_count": null,
   "metadata": {
    "scrolled": true
   },
   "outputs": [],
   "source": [
    "np.array([1, 2, 3, 4], dtype='int64')"
   ]
  },
  {
   "cell_type": "code",
   "execution_count": null,
   "metadata": {
    "scrolled": true
   },
   "outputs": [],
   "source": [
    "my_array1 = np.array([1, 2, 3])\n",
    "my_array2 = np.array([1.5, 20.15, 3.601])\n",
    "my_array3 = np.array([\"Test1\", \"Test2\", \"FCI\"])\n",
    "\n",
    "print(my_array1.dtype)\n",
    "print(my_array2.dtype)\n",
    "print(my_array3.dtype)"
   ]
  },
  {
   "cell_type": "markdown",
   "metadata": {},
   "source": [
    "you are creating NumPy arrays with specific data types using the dtype parameter."
   ]
  },
  {
   "cell_type": "code",
   "execution_count": null,
   "metadata": {},
   "outputs": [],
   "source": [
    "my_array4 = np.array([1, 2, 3], dtype=float) # float Or 'float' Or 'f'\n",
    "my_array5 = np.array([1.5, 20.15, 3.601], dtype=int) # int Or 'int' Or 'i'\n",
    "\n",
    "# Can't conversion from strings to integers is attempte\n",
    "# my_array6 = np.array([\"Osama_Elzero\", \"B\", \"Ahmed\"], dtype=int) # Value Error\n",
    "\n",
    "print(my_array4.dtype)\n",
    "print(my_array5.dtype)\n",
    "# print(my_array6.dtype)"
   ]
  },
  {
   "cell_type": "markdown",
   "metadata": {},
   "source": [
    "# Number Of Dimention\n",
    " The number of dimensions in a NumPy array is often referred to as its \"rank\" or \"number of axes.\" "
   ]
  },
  {
   "cell_type": "code",
   "execution_count": null,
   "metadata": {},
   "outputs": [],
   "source": [
    "a = np.array(10)\n",
    "print(a.ndim)\n",
    "\n",
    "b = np.array([10, 20])\n",
    "print(b.ndim)\n",
    "\n",
    "c = np.array([[1, 2], [3, 4]])\n",
    "print(c.ndim)\n",
    "\n",
    "d = np.array([[[5, 6], [7, 9]], [[1, 3], [4, 8]]])\n",
    "print(d.ndim)"
   ]
  },
  {
   "cell_type": "markdown",
   "metadata": {},
   "source": [
    "# Size In Numpy\n",
    "is used to refer to the total number of elements in a NumPy array. "
   ]
  },
  {
   "cell_type": "code",
   "execution_count": null,
   "metadata": {
    "collapsed": true
   },
   "outputs": [],
   "source": [
    "import numpy as np\n",
    "\n",
    "# Creating a 1-D NumPy array\n",
    "array_1d = np.array([1, 2, 3, 4, 5])\n",
    "size_1d = array_1d.size\n",
    "print(\"Size of 1-D array:\", size_1d)  # Outputs: 5\n",
    "\n",
    "# Creating a 2-D NumPy array\n",
    "array_2d = np.array([[1, 2, 3], [4, 5, 6]])\n",
    "size_2d = array_2d.size\n",
    "print(\"Size of 2-D array:\", size_2d)  # Outputs: 6\n",
    "\n",
    "# Creating a 3-D NumPy array\n",
    "array_3d = np.array([[[1, 2], [3, 4]], [[5, 6], [7, 8]]])\n",
    "size_3d = array_3d.size\n",
    "print(\"Size of 3-D array:\", size_3d)  # Outputs: 8\n"
   ]
  },
  {
   "cell_type": "markdown",
   "metadata": {},
   "source": [
    "# Shape In Numpy\n",
    "In NumPy, the \"shape\" of an array refers to the dimensions (or size along each axis) of the array. The shape is represented as a tuple that specifies the number of elements along each axis. "
   ]
  },
  {
   "cell_type": "code",
   "execution_count": null,
   "metadata": {
    "collapsed": true
   },
   "outputs": [],
   "source": [
    "import numpy as np\n",
    "\n",
    "# Creating a 1-D NumPy array\n",
    "array_1d = np.array([1, 2, 3, 4, 5])\n",
    "shape_1d = array_1d.shape\n",
    "print(\"Shape of 1-D array:\", shape_1d)  # Outputs: (5,)\n",
    "\n",
    "# Creating a 2-D NumPy array\n",
    "array_2d = np.array([[1, 2, 3], [4, 5, 6]])\n",
    "shape_2d = array_2d.shape\n",
    "print(\"Shape of 2-D array:\", shape_2d)  # Outputs: (2, 3)\n",
    "\n",
    "# Creating a 3-D NumPy array\n",
    "array_3d = np.array([[[1, 2], [3, 4]], [[5, 6], [7, 8]]])\n",
    "shape_3d = array_3d.shape\n",
    "print(\"Shape of 3-D array:\", shape_3d)  # Outputs: (2, 2, 2)"
   ]
  },
  {
   "cell_type": "markdown",
   "metadata": {},
   "source": [
    "# Reshape In Numpy\n",
    "In NumPy, the reshape() method is used to change the shape or dimensions of a NumPy array. This method allows you to create a new view of the array with a different shape without changing the original data"
   ]
  },
  {
   "cell_type": "code",
   "execution_count": null,
   "metadata": {
    "collapsed": true
   },
   "outputs": [],
   "source": [
    "import numpy as np\n",
    "\n",
    "# Creating a 1-D array\n",
    "array_1d = np.array([1, 2, 3, 4, 5, 6])\n",
    "\n",
    "# Reshaping the 1-D array into a 2-D array with 3 rows and 2 columns\n",
    "array_2d = array_1d.reshape(3, 2)\n",
    "\n",
    "print(\"Original 1-D array:\")\n",
    "print(array_1d)\n",
    "\n",
    "print(\"\\nReshaped 2-D array:\")\n",
    "print(array_2d)"
   ]
  },
  {
   "cell_type": "markdown",
   "metadata": {},
   "source": [
    "# Matrix Transpose\n",
    "Matrix transpose is a common operation in linear algebra and NumPy provides an easy way to transpose a matrix or an array using the .T attribute. "
   ]
  },
  {
   "cell_type": "code",
   "execution_count": null,
   "metadata": {},
   "outputs": [],
   "source": [
    "import numpy as np\n",
    "matrix = np.array([[1, 2, 3],\n",
    "                   [4, 5, 6],\n",
    "                   [7, 8, 9]])\n",
    "print(matrix)\n",
    "\n",
    "print(\"*\" * 20)\n",
    "\n",
    "transposed_matrix = matrix.T\n",
    "print(transposed_matrix)"
   ]
  },
  {
   "cell_type": "markdown",
   "metadata": {},
   "source": [
    "# Array Slicing\n",
    "- Access and print the last element of the array using different indexing methods.\n",
    "- Slicing => [Start:End:Steps] Not Including End"
   ]
  },
  {
   "cell_type": "code",
   "execution_count": null,
   "metadata": {},
   "outputs": [],
   "source": [
    "a = np.array([\"A\", \"B\", \"C\", \"D\", \"E\", \"F\"])\n",
    "\n",
    "print(a[1])\n",
    "print(a[1:4])\n",
    "print(a[:4])\n",
    "print(a[2:])\n",
    "\n",
    "print(\"#\" * 20)\n",
    "\n",
    "b = np.array([[\"A\", \"B\", \"X\"], [\"C\", \"D\", \"Y\"], [\"E\", \"F\", \"Z\"], [\"M\", \"N\", \"O\"]])\n",
    "\n",
    "print(b[1])\n",
    "\n",
    "print(\"#\" * 20)\n",
    "\n",
    "print(b[2:, :2])\n",
    "print(b[2:, :2:2])"
   ]
  },
  {
   "cell_type": "markdown",
   "metadata": {},
   "source": [
    "# Boolean Indexing"
   ]
  },
  {
   "cell_type": "code",
   "execution_count": null,
   "metadata": {},
   "outputs": [],
   "source": [
    "import numpy as np\n",
    "\n",
    "# Create a NumPy array\n",
    "arr = np.array([1, 2, 3, 4, 5, 6])\n",
    "\n",
    "# Boolean condition to select even numbers\n",
    "condition = arr % 2 == 0\n",
    "\n",
    "# Slicing with the condition\n",
    "result = arr[condition]\n",
    "print(result)  # Output: [2 4 6]"
   ]
  },
  {
   "cell_type": "markdown",
   "metadata": {},
   "source": [
    "## Creating Arrays from Scratch\n",
    "\n",
    "Especially for larger arrays, it is more efficient to create arrays from scratch using routines built into NumPy.\n",
    "Here are several examples:"
   ]
  },
  {
   "cell_type": "code",
   "execution_count": null,
   "metadata": {},
   "outputs": [],
   "source": [
    "# Create integer array filled with zeros\n",
    "np.zeros((3, 5), dtype=int)"
   ]
  },
  {
   "cell_type": "code",
   "execution_count": null,
   "metadata": {},
   "outputs": [],
   "source": [
    "# Create a 3x5 floating-point array filled with ones\n",
    "np.ones((3, 5), dtype=float)"
   ]
  },
  {
   "cell_type": "code",
   "execution_count": null,
   "metadata": {},
   "outputs": [],
   "source": [
    "# Create an array filled with a linear sequence\n",
    "# Starting at 0, ending at 20, stepping by 2\n",
    "# (this is similar to the built-in range() function)\n",
    "np.arange(0, 20, 2)"
   ]
  },
  {
   "cell_type": "code",
   "execution_count": null,
   "metadata": {},
   "outputs": [],
   "source": [
    "# Create an array of five values evenly spaced between 0 and 1\n",
    "np.linspace(0, 1, 5)"
   ]
  },
  {
   "cell_type": "code",
   "execution_count": null,
   "metadata": {},
   "outputs": [],
   "source": [
    "# Create a 3x3 array of uniformly distributed\n",
    "# random values between 0 and 1\n",
    "np.random.random((3, 3))"
   ]
  },
  {
   "cell_type": "code",
   "execution_count": null,
   "metadata": {},
   "outputs": [],
   "source": [
    "# Create a 3x3 array of random integers in the interval [0, 10)\n",
    "np.random.randint(0, 10, (3, 3))"
   ]
  },
  {
   "cell_type": "code",
   "execution_count": null,
   "metadata": {},
   "outputs": [],
   "source": [
    "# Create a 3x3 identity matrix\n",
    "np.eye(3)"
   ]
  },
  {
   "cell_type": "markdown",
   "metadata": {},
   "source": [
    "# Compare Data Location  (NumPy Vs List)"
   ]
  },
  {
   "cell_type": "code",
   "execution_count": null,
   "metadata": {},
   "outputs": [],
   "source": [
    "my_list = [1, 2, 3, 4, 5]\n",
    "my_array = np.array([1, 2, 3, 4, 5])\n",
    "\n",
    "print(my_list[0])\n",
    "print(my_list[1])\n",
    "\n",
    "print(\"#\" * 50)\n",
    "\n",
    "print(my_array[0])\n",
    "print(my_array[1])\n",
    "\n",
    "print(\"#\" * 50)\n",
    "\n",
    "print(id(my_list[0]))\n",
    "print(id(my_list[1]))\n",
    "\n",
    "print(id(my_array[0]))\n",
    "print(id(my_array[1]))"
   ]
  },
  {
   "cell_type": "markdown",
   "metadata": {},
   "source": [
    "# Numpy Arithmetic & Useful Operations"
   ]
  },
  {
   "cell_type": "markdown",
   "metadata": {},
   "source": [
    "NumPy's ufuncs feel very natural to use because they make use of Python's native arithmetic operators.\n",
    "The standard addition, subtraction, multiplication, and division can all be used:"
   ]
  },
  {
   "cell_type": "markdown",
   "metadata": {},
   "source": [
    "The following table lists the arithmetic operators implemented in NumPy:\n",
    "\n",
    "| Operator\t    | Equivalent ufunc    | Description                           |\n",
    "|---------------|---------------------|---------------------------------------|\n",
    "|``+``          |``np.add``           |Addition (e.g., ``1 + 1 = 2``)         |\n",
    "|``-``          |``np.subtract``      |Subtraction (e.g., ``3 - 2 = 1``)      |\n",
    "|``-``          |``np.negative``      |Unary negation (e.g., ``-2``)          |\n",
    "|``*``          |``np.multiply``      |Multiplication (e.g., ``2 * 3 = 6``)   |\n",
    "|``/``          |``np.divide``        |Division (e.g., ``3 / 2 = 1.5``)       |\n",
    "|``//``         |``np.floor_divide``  |Floor division (e.g., ``3 // 2 = 1``)  |\n",
    "|``**``         |``np.power``         |Exponentiation (e.g., ``2 ** 3 = 8``)  |\n",
    "|``%``          |``np.mod``           |Modulus/remainder (e.g., ``9 % 4 = 1``)|"
   ]
  },
  {
   "cell_type": "markdown",
   "metadata": {},
   "source": [
    "# Numpy Arithmetic and Statistical Functions"
   ]
  },
  {
   "cell_type": "code",
   "execution_count": null,
   "metadata": {},
   "outputs": [],
   "source": [
    "# - Addition\n",
    "# - Subtraction\n",
    "# - Multiplication\n",
    "# - Dividation\n",
    "# ----------------\n",
    "# - min\n",
    "# - max\n",
    "# - sum\n",
    "# - ravel => Returns Flattened Array 1 Dimension With Same Type\n",
    "# ----------------------------------------------\n",
    "\n",
    "import numpy as np\n",
    "\n",
    "# Arithmetic Operations\n",
    "\n",
    "my_array1 = np.array([10, 20, 30])\n",
    "my_array2 = np.array([5, 2, 4])\n",
    "\n",
    "print(my_array1 + my_array2) # result [15, 22, 34]\n",
    "print(my_array1 - my_array2) # result [5, 18, 26]\n",
    "print(my_array1 * my_array2) # result [50, 40, 120]\n",
    "print(my_array1 / my_array2) # result [2, 10, 7.5]\n",
    "\n",
    "print(\"#\" * 50)\n",
    "\n",
    "# Min, Max, Sum\n",
    "my_array3 = np.array([10, 20, 30])\n",
    "print(my_array3.min())\n",
    "print(my_array3.max())\n",
    "print(my_array3.sum())\n",
    "\n",
    "# ravel\n",
    "my_array4 = np.array([[6, 4], [3, 9]])\n",
    "print(my_array4.ravel())"
   ]
  },
  {
   "cell_type": "markdown",
   "metadata": {},
   "source": [
    "## Some Operations In Numpy"
   ]
  },
  {
   "cell_type": "code",
   "execution_count": null,
   "metadata": {},
   "outputs": [],
   "source": [
    "# Create an array filled with a linear sequence\n",
    "# Starting at 0, ending at 20, stepping by 2\n",
    "# (this is similar to the built-in range() function)\n",
    "\n",
    "x = np.arange(4)\n",
    "print(\"x     =\", x)\n",
    "print(\"x + 5 =\", x + 5)\n",
    "print(\"x - 5 =\", x - 5)\n",
    "print(\"x * 2 =\", x * 2)\n",
    "print(\"x / 2 =\", x / 2)\n",
    "print(\"x // 2 =\", x // 2)  # floor division"
   ]
  },
  {
   "cell_type": "markdown",
   "metadata": {},
   "source": [
    "There is also  ** operator for exponentiation, and a % operator for modulus:"
   ]
  },
  {
   "cell_type": "code",
   "execution_count": null,
   "metadata": {},
   "outputs": [],
   "source": [
    "print(\"x ** 2 = \", x ** 2)\n",
    "print(\"x % 2  = \", x % 2)"
   ]
  },
  {
   "cell_type": "markdown",
   "metadata": {},
   "source": [
    "<!-- # Element-Wise Functions And Sorting and Searching: -->\n",
    "# NumPy  built-in arithmetic operators"
   ]
  },
  {
   "cell_type": "markdown",
   "metadata": {},
   "source": [
    "- You can apply element-wise functions like abs(), sqrt(), ceil(), floor(), and round() to manipulate array elements.\n",
    "- Functions like sort(), argsort(), unique(), and searchsorted() help with sorting and searching within arrays."
   ]
  },
  {
   "cell_type": "code",
   "execution_count": null,
   "metadata": {},
   "outputs": [],
   "source": [
    "import numpy as np\n",
    "\n",
    "array1 = np.array([1, 2, 3])\n",
    "array2 = np.array([4, 5, 6])\n",
    "\n",
    "# Addition (+):\n",
    "Add = np.add(array1, array2)\n",
    "print(f\"Addition = {Add}\")\n",
    "\n",
    "# Subtraction (-):\n",
    "Sub = np.subtract(array1, array2)\n",
    "print(f\"Subtraction = {Sub}\")\n",
    "\n",
    "# Negative (-):\n",
    "# Changing positive values to negative and vice versa\n",
    "Negative = np.negative(array1)\n",
    "print(f\"Negative = {Negative}\")\n",
    "\n",
    "# Multiplication (*):\n",
    "Multiplication = np.multiply(array1, array2)\n",
    "print(f\"Multiplication = {Multiplication}\")\n",
    "\n",
    "# Division (/):\n",
    "Division = np.divide(array1, array2)\n",
    "print(f\"Division = {Division}\")\n",
    "\n",
    "# Floor Division (//):\n",
    "# This operation divides one array by another and rounds the result down to the nearest integer\n",
    "Floor = np.floor_divide(array1, array2)\n",
    "print(f\"Floor Division = {Floor}\")\n",
    "\n",
    "# Exponentiation (**):\n",
    "exponent = 2\n",
    "Exp = np.power(array1, exponent)\n",
    "print(f\"Exponentiation = {Exp}\")\n",
    "\n",
    "# Modulus/Remainder (%):\n",
    "mod = np.mod(array1, array2)\n",
    "print(f\"Modulus = {mod}\")"
   ]
  },
  {
   "cell_type": "code",
   "execution_count": null,
   "metadata": {},
   "outputs": [],
   "source": [
    "import numpy as np\n",
    "\n",
    "# Create a NumPy array for demonstration\n",
    "arr = np.array([1, 2, 3, 4, 5])\n",
    "\n",
    "# Example of applying element-wise functions\n",
    "\n",
    "# Square each element\n",
    "squared = np.square(arr)\n",
    "\n",
    "# Take the square root of each element\n",
    "sqrt = np.sqrt(arr)\n",
    "\n",
    "# Calculate the exponential of each element (e^x)\n",
    "exp = np.exp(arr)\n",
    "\n",
    "# Calculate the absolute value of each element\n",
    "abs_values = np.abs(arr)\n",
    "\n",
    "# Round each element to the nearest integer\n",
    "rounded = np.round(arr)\n",
    "\n",
    "# Calculate the sine of each element\n",
    "sin_values = np.sin(arr)\n",
    "\n",
    "# Calculate the natural logarithm of each element\n",
    "log_values = np.log(arr)\n",
    "\n",
    "# Print the results\n",
    "print(\"Original array:\", arr)\n",
    "print(\"Squared elements:\", squared)\n",
    "print(\"Square root of elements:\", sqrt)\n",
    "print(\"Exponential of elements:\", exp)\n",
    "print(\"Absolute values of elements:\", abs_values)\n",
    "print(\"Rounded elements:\", rounded)\n",
    "print(\"Sine of elements:\", sin_values)\n",
    "print(\"Natural logarithm of elements:\", log_values)"
   ]
  },
  {
   "cell_type": "markdown",
   "metadata": {},
   "source": [
    "# Statistical Operations on Arrays"
   ]
  },
  {
   "cell_type": "markdown",
   "metadata": {},
   "source": [
    " # Mean\n",
    "The mean() function computes the arithmetic mean along the specified axis."
   ]
  },
  {
   "cell_type": "code",
   "execution_count": null,
   "metadata": {},
   "outputs": [],
   "source": [
    "import numpy as np\n",
    "\n",
    "arr = np.array([1, 2, 3, 4, 5])\n",
    "mean_value = np.mean(arr)\n",
    "print(\"Mean:\", mean_value)"
   ]
  },
  {
   "cell_type": "markdown",
   "metadata": {},
   "source": [
    "# Median\n",
    "The median() function computes the median along the specified axis."
   ]
  },
  {
   "cell_type": "code",
   "execution_count": null,
   "metadata": {},
   "outputs": [],
   "source": [
    "import numpy as np\n",
    "\n",
    "arr = np.array([1, 2, 3, 4, 5])\n",
    "median_value = np.median(arr)\n",
    "print(\"Median:\", median_value)"
   ]
  },
  {
   "cell_type": "markdown",
   "metadata": {},
   "source": [
    "# Standard Deviation\n",
    "The std() function calculates the standard deviation along the specified axis."
   ]
  },
  {
   "cell_type": "code",
   "execution_count": null,
   "metadata": {},
   "outputs": [],
   "source": [
    "import numpy as np\n",
    "\n",
    "arr = np.array([1, 2, 3, 4, 5])\n",
    "std_deviation = np.std(arr)\n",
    "print(\"Standard Deviation:\", std_deviation)"
   ]
  },
  {
   "cell_type": "markdown",
   "metadata": {},
   "source": [
    "# Variance\n",
    "The var() function computes the variance along the specified axis."
   ]
  },
  {
   "cell_type": "code",
   "execution_count": null,
   "metadata": {},
   "outputs": [],
   "source": [
    "import numpy as np\n",
    "\n",
    "arr = np.array([1, 2, 3, 4, 5])\n",
    "variance = np.var(arr)\n",
    "print(\"Variance:\", variance)"
   ]
  },
  {
   "cell_type": "markdown",
   "metadata": {},
   "source": [
    " \n",
    " \n",
    " # ❤️ دعواتكم لاهل فلسطين \n",
    " "
   ]
  },
  {
   "cell_type": "markdown",
   "metadata": {},
   "source": [
    "![Palestine](https://c4.wallpaperflare.com/wallpaper/230/257/123/flag-palestine-wallpaper-preview.jpg)"
   ]
  }
 ],
 "metadata": {
  "anaconda-cloud": {},
  "kernelspec": {
   "display_name": "Python 3 (ipykernel)",
   "language": "python",
   "name": "python3"
  },
  "language_info": {
   "codemirror_mode": {
    "name": "ipython",
    "version": 3
   },
   "file_extension": ".py",
   "mimetype": "text/x-python",
   "name": "python",
   "nbconvert_exporter": "python",
   "pygments_lexer": "ipython3",
   "version": "3.11.5"
  }
 },
 "nbformat": 4,
 "nbformat_minor": 1
}
